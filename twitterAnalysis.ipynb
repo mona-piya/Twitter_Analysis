{
 "cells": [
  {
   "cell_type": "markdown",
   "metadata": {},
   "source": [
    "### Assessed Task #2"
   ]
  },
  {
   "cell_type": "code",
   "execution_count": 1,
   "metadata": {
    "colab": {},
    "colab_type": "code",
    "id": "j_YJh2J2JKlT"
   },
   "outputs": [],
   "source": [
    "import tweepy\n",
    "import pandas as pd\n",
    "import numpy as np\n",
    "import json\n",
    "import re\n",
    "import matplotlib.pyplot as plt\n",
    "\n",
    "#from collections import Counter\n",
    "\n",
    "import warnings\n",
    "warnings.filterwarnings('ignore')"
   ]
  },
  {
   "cell_type": "markdown",
   "metadata": {},
   "source": [
    "**Task1**: Authentication"
   ]
  },
  {
   "cell_type": "code",
   "execution_count": 2,
   "metadata": {},
   "outputs": [],
   "source": [
    "# Your credentials go here ...\n",
    "\n",
    "consumer_key = 'TsBOnrwydStaWmvUeShzJ90iS'\n",
    "consumer_key_secret = 'FkkmXlmwTSjaf8pds7rz3tvOpehRVPpB8lKlWBQzBp4fsDbKY1'\n",
    "access_token = '2576751307-N7lUuCWkpY7ZcNDJZlRzDB6QAnfEjN9tgWhhA9B'\n",
    "access_token_secret = 'L6nOSOKuJ2GbSDj8nTfGb5yCQVxGKlZrIFzzdtyacwfkV'\n",
    "\n",
    "auth = tweepy.OAuthHandler(consumer_key, consumer_key_secret)\n",
    "\n",
    "auth.set_access_token(access_token, access_token_secret)\n",
    "\n",
    "api = tweepy.API(auth)"
   ]
  },
  {
   "cell_type": "markdown",
   "metadata": {},
   "source": [
    "**Task 1**\n",
    "Collect 400 tweets from two different Twitter users (Australian politicians), 200 from each.  You should try to find two politicians where you would expect there to be some noticeable differences in their tweets.\n"
   ]
  },
  {
   "cell_type": "markdown",
   "metadata": {},
   "source": [
    "#### Julian Hill MP (@JulianHillMP) \n"
   ]
  },
  {
   "cell_type": "code",
   "execution_count": 3,
   "metadata": {},
   "outputs": [],
   "source": [
    "max_tweets = 200\n",
    "screen_name = '@JulianHillMP'\n",
    "\n",
    "tweets_JH = api.user_timeline(screen_name = screen_name,\n",
    "                             tweet_mode = 'extended',\n",
    "                             count = max_tweets)"
   ]
  },
  {
   "cell_type": "markdown",
   "metadata": {},
   "source": [
    "Writing all the tweets for Julian Hill MP .json file"
   ]
  },
  {
   "cell_type": "code",
   "execution_count": 4,
   "metadata": {},
   "outputs": [],
   "source": [
    "list_of_dicts_JH = []\n",
    "for tweet in tweets_JH:\n",
    "    list_of_dicts_JH.append(tweet._json)\n",
    "#print(list_of_dicts_JH)\n",
    "\n",
    "with open('Files/JulianHillMP_tweet.json', mode = 'w') as file:\n",
    "    file.write(json.dumps(list_of_dicts_JH , indent = 4))"
   ]
  },
  {
   "cell_type": "markdown",
   "metadata": {},
   "source": [
    "#### Scott Morrison (@ScottMorrisonMP) "
   ]
  },
  {
   "cell_type": "code",
   "execution_count": 5,
   "metadata": {},
   "outputs": [],
   "source": [
    "max_tweets = 200\n",
    "screen_name = '@ScottMorrisonMP'\n",
    "\n",
    "tweets_SM = api.user_timeline(screen_name = screen_name,\n",
    "                           tweet_mode = 'extended',\n",
    "                           count = max_tweets)"
   ]
  },
  {
   "cell_type": "markdown",
   "metadata": {},
   "source": [
    "Writing all the tweets for Scott Morrison  .json file"
   ]
  },
  {
   "cell_type": "code",
   "execution_count": 6,
   "metadata": {},
   "outputs": [],
   "source": [
    "list_of_dicts_SM = []\n",
    "for tweet in tweets_SM:\n",
    "    list_of_dicts_SM.append(tweet._json)\n",
    "#print(list_of_dicts_SM)\n",
    "\n",
    "with open('Files/ScottMorrisonMP_tweet.json', mode = 'w') as file:\n",
    "    file.write(json.dumps(list_of_dicts_SM , indent = 4))"
   ]
  },
  {
   "cell_type": "code",
   "execution_count": 7,
   "metadata": {},
   "outputs": [
    {
     "name": "stdout",
     "output_type": "stream",
     "text": [
      "{'user': 'Julian Hill MP', 'full_text': '@DougCameron51 @JoshFrydenberg Same level of courage as Peter Costello. But a far far worse Treasurer - record debt, still in deficit and a weak economy - and that was before COVID!', 'posting_time': 'Sat Oct 16 02:43:22 +0000 2021'}\n"
     ]
    }
   ],
   "source": [
    "#JulianHillMP\n",
    "list1 = []\n",
    "with open('Files/JulianHillMP_tweet.json', encoding = 'utf-8', mode = 'r') as file:\n",
    "        list_of_dicts_JH = json.load(file)\n",
    "        for dict in list_of_dicts_JH:\n",
    "             list1.append({'user':str(dict['user']['name']),\n",
    "                          'full_text':str(dict['full_text']),\n",
    "                          'posting_time':dict['created_at'],\n",
    "             })\n",
    "print(list1[0])"
   ]
  },
  {
   "cell_type": "code",
   "execution_count": 8,
   "metadata": {
    "scrolled": true
   },
   "outputs": [],
   "source": [
    "#JulianHillMP\n",
    "df_JH = pd.DataFrame(list1 , columns = ['user','full_text', 'posting_time'])\n",
    "#df_JH"
   ]
  },
  {
   "cell_type": "markdown",
   "metadata": {},
   "source": [
    "__ScottMorrisonMP__"
   ]
  },
  {
   "cell_type": "code",
   "execution_count": 9,
   "metadata": {},
   "outputs": [],
   "source": [
    "#ScottMorrisonMP\n",
    "list2 = []\n",
    "with open('Files/ScottMorrisonMP_tweet.json', encoding = 'utf-8', mode = 'r') as file:\n",
    "        list_of_dicts_SM = json.load(file)\n",
    "        for dict in list_of_dicts_SM:\n",
    "            list2.append({'user':str(dict['user']['name']),\n",
    "                          'full_text':str(dict['full_text']),\n",
    "                          'posting_time':dict['created_at'],\n",
    "             })"
   ]
  },
  {
   "cell_type": "code",
   "execution_count": 10,
   "metadata": {},
   "outputs": [],
   "source": [
    "#ScottMorrisonMP\n",
    "df_SM = pd.DataFrame(list2 , columns = ['user','full_text', 'posting_time'])\n",
    "#df_SM"
   ]
  },
  {
   "cell_type": "markdown",
   "metadata": {},
   "source": [
    "Merging df_JH and df_SM tables into one df"
   ]
  },
  {
   "cell_type": "code",
   "execution_count": 11,
   "metadata": {},
   "outputs": [
    {
     "data": {
      "text/html": [
       "<div>\n",
       "<style scoped>\n",
       "    .dataframe tbody tr th:only-of-type {\n",
       "        vertical-align: middle;\n",
       "    }\n",
       "\n",
       "    .dataframe tbody tr th {\n",
       "        vertical-align: top;\n",
       "    }\n",
       "\n",
       "    .dataframe thead th {\n",
       "        text-align: right;\n",
       "    }\n",
       "</style>\n",
       "<table border=\"1\" class=\"dataframe\">\n",
       "  <thead>\n",
       "    <tr style=\"text-align: right;\">\n",
       "      <th></th>\n",
       "      <th>user</th>\n",
       "      <th>full_text</th>\n",
       "      <th>posting_time</th>\n",
       "    </tr>\n",
       "  </thead>\n",
       "  <tbody>\n",
       "    <tr>\n",
       "      <th>0</th>\n",
       "      <td>Julian Hill MP</td>\n",
       "      <td>@DougCameron51 @JoshFrydenberg Same level of c...</td>\n",
       "      <td>Sat Oct 16 02:43:22 +0000 2021</td>\n",
       "    </tr>\n",
       "    <tr>\n",
       "      <th>1</th>\n",
       "      <td>Julian Hill MP</td>\n",
       "      <td>RT @DougCameron51: What a boring, pathetic pis...</td>\n",
       "      <td>Sat Oct 16 02:42:33 +0000 2021</td>\n",
       "    </tr>\n",
       "    <tr>\n",
       "      <th>2</th>\n",
       "      <td>Julian Hill MP</td>\n",
       "      <td>So 8 years of failure &amp;amp; missed opportuniti...</td>\n",
       "      <td>Fri Oct 15 20:31:24 +0000 2021</td>\n",
       "    </tr>\n",
       "    <tr>\n",
       "      <th>3</th>\n",
       "      <td>Julian Hill MP</td>\n",
       "      <td>RT @SenKatyG: The Morrison Government wants us...</td>\n",
       "      <td>Fri Oct 15 06:19:32 +0000 2021</td>\n",
       "    </tr>\n",
       "    <tr>\n",
       "      <th>4</th>\n",
       "      <td>Julian Hill MP</td>\n",
       "      <td>Ummm, Matty, you do know how that story ends r...</td>\n",
       "      <td>Thu Oct 14 23:49:50 +0000 2021</td>\n",
       "    </tr>\n",
       "  </tbody>\n",
       "</table>\n",
       "</div>"
      ],
      "text/plain": [
       "             user                                          full_text  \\\n",
       "0  Julian Hill MP  @DougCameron51 @JoshFrydenberg Same level of c...   \n",
       "1  Julian Hill MP  RT @DougCameron51: What a boring, pathetic pis...   \n",
       "2  Julian Hill MP  So 8 years of failure &amp; missed opportuniti...   \n",
       "3  Julian Hill MP  RT @SenKatyG: The Morrison Government wants us...   \n",
       "4  Julian Hill MP  Ummm, Matty, you do know how that story ends r...   \n",
       "\n",
       "                     posting_time  \n",
       "0  Sat Oct 16 02:43:22 +0000 2021  \n",
       "1  Sat Oct 16 02:42:33 +0000 2021  \n",
       "2  Fri Oct 15 20:31:24 +0000 2021  \n",
       "3  Fri Oct 15 06:19:32 +0000 2021  \n",
       "4  Thu Oct 14 23:49:50 +0000 2021  "
      ]
     },
     "execution_count": 11,
     "metadata": {},
     "output_type": "execute_result"
    }
   ],
   "source": [
    "df = pd.concat([df_JH,df_SM], axis=0)\n",
    "df = df.reset_index(drop=True)\n",
    "df.head(5)"
   ]
  },
  {
   "cell_type": "markdown",
   "metadata": {},
   "source": [
    "Writng all the tweets for each of the two users, as a single .csv file. "
   ]
  },
  {
   "cell_type": "code",
   "execution_count": 12,
   "metadata": {},
   "outputs": [],
   "source": [
    "import csv\n",
    "\n",
    "#csv path\n",
    "FILE_PATH = \"C:/Users/piyak/Github/my-project/Twitter_Analysis/Files/tweets.csv\"\n",
    "\n",
    "#Save dataframe to csv\n",
    "df.to_csv(FILE_PATH)"
   ]
  },
  {
   "cell_type": "markdown",
   "metadata": {},
   "source": [
    "**Task 2** Use pandas to plot the posting times of the tweets for the two users in one bar chart; the aim of the plot is to distinguish the two users."
   ]
  },
  {
   "cell_type": "code",
   "execution_count": 13,
   "metadata": {},
   "outputs": [],
   "source": [
    "#Extract posting hour from posting_time\n",
    "df_JH['posting_time'] = pd.to_datetime(df_JH['posting_time'])\n",
    "df_JH['hour'] = df_JH['posting_time'].dt.hour\n",
    "df_SM['posting_time'] = pd.to_datetime(df_SM['posting_time'])\n",
    "df_SM['hour'] = df_SM['posting_time'].dt.hour"
   ]
  },
  {
   "cell_type": "code",
   "execution_count": 14,
   "metadata": {},
   "outputs": [],
   "source": [
    "JH= df_JH['hour'].value_counts().sort_index().to_frame('JH')\n",
    "JH['hour'] = JH.index\n",
    "JH.reset_index(drop=True, inplace=True)\n",
    "JH = JH[['hour', 'JH']]\n",
    "#JH"
   ]
  },
  {
   "cell_type": "code",
   "execution_count": 15,
   "metadata": {},
   "outputs": [],
   "source": [
    "SM= df_SM['hour'].value_counts().sort_index().to_frame('SM')\n",
    "SM['hour'] = SM.index\n",
    "SM.reset_index(drop=True, inplace=True)\n",
    "SM = SM[['hour', 'SM']]\n",
    "#SM"
   ]
  },
  {
   "cell_type": "code",
   "execution_count": 16,
   "metadata": {},
   "outputs": [
    {
     "data": {
      "text/html": [
       "<div>\n",
       "<style scoped>\n",
       "    .dataframe tbody tr th:only-of-type {\n",
       "        vertical-align: middle;\n",
       "    }\n",
       "\n",
       "    .dataframe tbody tr th {\n",
       "        vertical-align: top;\n",
       "    }\n",
       "\n",
       "    .dataframe thead th {\n",
       "        text-align: right;\n",
       "    }\n",
       "</style>\n",
       "<table border=\"1\" class=\"dataframe\">\n",
       "  <thead>\n",
       "    <tr style=\"text-align: right;\">\n",
       "      <th></th>\n",
       "      <th>JH</th>\n",
       "      <th>SM</th>\n",
       "    </tr>\n",
       "    <tr>\n",
       "      <th>hour</th>\n",
       "      <th></th>\n",
       "      <th></th>\n",
       "    </tr>\n",
       "  </thead>\n",
       "  <tbody>\n",
       "    <tr>\n",
       "      <th>0</th>\n",
       "      <td>4</td>\n",
       "      <td>9</td>\n",
       "    </tr>\n",
       "    <tr>\n",
       "      <th>1</th>\n",
       "      <td>5</td>\n",
       "      <td>10</td>\n",
       "    </tr>\n",
       "    <tr>\n",
       "      <th>2</th>\n",
       "      <td>10</td>\n",
       "      <td>15</td>\n",
       "    </tr>\n",
       "    <tr>\n",
       "      <th>3</th>\n",
       "      <td>10</td>\n",
       "      <td>12</td>\n",
       "    </tr>\n",
       "    <tr>\n",
       "      <th>4</th>\n",
       "      <td>16</td>\n",
       "      <td>13</td>\n",
       "    </tr>\n",
       "    <tr>\n",
       "      <th>5</th>\n",
       "      <td>12</td>\n",
       "      <td>20</td>\n",
       "    </tr>\n",
       "    <tr>\n",
       "      <th>6</th>\n",
       "      <td>11</td>\n",
       "      <td>12</td>\n",
       "    </tr>\n",
       "    <tr>\n",
       "      <th>7</th>\n",
       "      <td>13</td>\n",
       "      <td>15</td>\n",
       "    </tr>\n",
       "    <tr>\n",
       "      <th>8</th>\n",
       "      <td>22</td>\n",
       "      <td>7</td>\n",
       "    </tr>\n",
       "    <tr>\n",
       "      <th>9</th>\n",
       "      <td>12</td>\n",
       "      <td>25</td>\n",
       "    </tr>\n",
       "    <tr>\n",
       "      <th>10</th>\n",
       "      <td>22</td>\n",
       "      <td>14</td>\n",
       "    </tr>\n",
       "    <tr>\n",
       "      <th>11</th>\n",
       "      <td>12</td>\n",
       "      <td>11</td>\n",
       "    </tr>\n",
       "    <tr>\n",
       "      <th>12</th>\n",
       "      <td>0</td>\n",
       "      <td>5</td>\n",
       "    </tr>\n",
       "    <tr>\n",
       "      <th>14</th>\n",
       "      <td>0</td>\n",
       "      <td>1</td>\n",
       "    </tr>\n",
       "    <tr>\n",
       "      <th>19</th>\n",
       "      <td>1</td>\n",
       "      <td>0</td>\n",
       "    </tr>\n",
       "    <tr>\n",
       "      <th>20</th>\n",
       "      <td>11</td>\n",
       "      <td>3</td>\n",
       "    </tr>\n",
       "    <tr>\n",
       "      <th>21</th>\n",
       "      <td>15</td>\n",
       "      <td>6</td>\n",
       "    </tr>\n",
       "    <tr>\n",
       "      <th>22</th>\n",
       "      <td>12</td>\n",
       "      <td>17</td>\n",
       "    </tr>\n",
       "    <tr>\n",
       "      <th>23</th>\n",
       "      <td>11</td>\n",
       "      <td>5</td>\n",
       "    </tr>\n",
       "  </tbody>\n",
       "</table>\n",
       "</div>"
      ],
      "text/plain": [
       "      JH  SM\n",
       "hour        \n",
       "0      4   9\n",
       "1      5  10\n",
       "2     10  15\n",
       "3     10  12\n",
       "4     16  13\n",
       "5     12  20\n",
       "6     11  12\n",
       "7     13  15\n",
       "8     22   7\n",
       "9     12  25\n",
       "10    22  14\n",
       "11    12  11\n",
       "12     0   5\n",
       "14     0   1\n",
       "19     1   0\n",
       "20    11   3\n",
       "21    15   6\n",
       "22    12  17\n",
       "23    11   5"
      ]
     },
     "execution_count": 16,
     "metadata": {},
     "output_type": "execute_result"
    }
   ],
   "source": [
    "all_hour = pd.merge(JH, SM,on = ['hour'], how = 'outer')\n",
    "all_hour.fillna(0, inplace=True)\n",
    "all_hour['JH'] = all_hour['JH']. astype(int)\n",
    "all_hour['SM'] = all_hour['SM']. astype(int)\n",
    "all_hour.set_index('hour', inplace=True)\n",
    "all_hour = all_hour.sort_index()\n",
    "all_hour"
   ]
  },
  {
   "cell_type": "code",
   "execution_count": 17,
   "metadata": {},
   "outputs": [
    {
     "data": {
      "image/png": "[encoded data removed]",
      "text/plain": [
       "<Figure size 720x432 with 1 Axes>"
      ]
     },
     "metadata": {
      "needs_background": "light"
     },
     "output_type": "display_data"
    }
   ],
   "source": [
    "all_hour.plot(kind='bar', figsize=(10,6))\n",
    "plt.title('Posting times of the tweets of JulianHillMP and ScottMorrisonMP', fontsize = 14)\n",
    "plt.xlabel('Hour', fontsize = 14)\n",
    "plt.ylabel('Frequency', fontsize = 14)\n",
    "plt.tight_layout()"
   ]
  },
  {
   "cell_type": "markdown",
   "metadata": {},
   "source": [
    "**Task 3** Use pandas to construct one bar chart of the proportions of tweets for each of the two users that contain pictures or links."
   ]
  },
  {
   "cell_type": "code",
   "execution_count": 18,
   "metadata": {},
   "outputs": [
    {
     "data": {
      "text/html": [
       "<div>\n",
       "<style scoped>\n",
       "    .dataframe tbody tr th:only-of-type {\n",
       "        vertical-align: middle;\n",
       "    }\n",
       "\n",
       "    .dataframe tbody tr th {\n",
       "        vertical-align: top;\n",
       "    }\n",
       "\n",
       "    .dataframe thead th {\n",
       "        text-align: right;\n",
       "    }\n",
       "</style>\n",
       "<table border=\"1\" class=\"dataframe\">\n",
       "  <thead>\n",
       "    <tr style=\"text-align: right;\">\n",
       "      <th></th>\n",
       "      <th>user</th>\n",
       "      <th>full_text</th>\n",
       "      <th>posting_time</th>\n",
       "    </tr>\n",
       "  </thead>\n",
       "  <tbody>\n",
       "    <tr>\n",
       "      <th>0</th>\n",
       "      <td>Julian Hill MP</td>\n",
       "      <td>@DougCameron51 @JoshFrydenberg Same level of c...</td>\n",
       "      <td>Sat Oct 16 02:43:22 +0000 2021</td>\n",
       "    </tr>\n",
       "    <tr>\n",
       "      <th>1</th>\n",
       "      <td>Julian Hill MP</td>\n",
       "      <td>RT @DougCameron51: What a boring, pathetic pis...</td>\n",
       "      <td>Sat Oct 16 02:42:33 +0000 2021</td>\n",
       "    </tr>\n",
       "    <tr>\n",
       "      <th>2</th>\n",
       "      <td>Julian Hill MP</td>\n",
       "      <td>So 8 years of failure &amp;amp; missed opportuniti...</td>\n",
       "      <td>Fri Oct 15 20:31:24 +0000 2021</td>\n",
       "    </tr>\n",
       "    <tr>\n",
       "      <th>3</th>\n",
       "      <td>Julian Hill MP</td>\n",
       "      <td>RT @SenKatyG: The Morrison Government wants us...</td>\n",
       "      <td>Fri Oct 15 06:19:32 +0000 2021</td>\n",
       "    </tr>\n",
       "    <tr>\n",
       "      <th>4</th>\n",
       "      <td>Julian Hill MP</td>\n",
       "      <td>Ummm, Matty, you do know how that story ends r...</td>\n",
       "      <td>Thu Oct 14 23:49:50 +0000 2021</td>\n",
       "    </tr>\n",
       "  </tbody>\n",
       "</table>\n",
       "</div>"
      ],
      "text/plain": [
       "             user                                          full_text  \\\n",
       "0  Julian Hill MP  @DougCameron51 @JoshFrydenberg Same level of c...   \n",
       "1  Julian Hill MP  RT @DougCameron51: What a boring, pathetic pis...   \n",
       "2  Julian Hill MP  So 8 years of failure &amp; missed opportuniti...   \n",
       "3  Julian Hill MP  RT @SenKatyG: The Morrison Government wants us...   \n",
       "4  Julian Hill MP  Ummm, Matty, you do know how that story ends r...   \n",
       "\n",
       "                     posting_time  \n",
       "0  Sat Oct 16 02:43:22 +0000 2021  \n",
       "1  Sat Oct 16 02:42:33 +0000 2021  \n",
       "2  Fri Oct 15 20:31:24 +0000 2021  \n",
       "3  Fri Oct 15 06:19:32 +0000 2021  \n",
       "4  Thu Oct 14 23:49:50 +0000 2021  "
      ]
     },
     "execution_count": 18,
     "metadata": {},
     "output_type": "execute_result"
    }
   ],
   "source": [
    "df.head(5)"
   ]
  },
  {
   "cell_type": "markdown",
   "metadata": {},
   "source": [
    "Remove all retweets ('RT') from the DataFrame and display the resulting DataFrame."
   ]
  },
  {
   "cell_type": "code",
   "execution_count": 19,
   "metadata": {},
   "outputs": [
    {
     "data": {
      "text/html": [
       "<div>\n",
       "<style scoped>\n",
       "    .dataframe tbody tr th:only-of-type {\n",
       "        vertical-align: middle;\n",
       "    }\n",
       "\n",
       "    .dataframe tbody tr th {\n",
       "        vertical-align: top;\n",
       "    }\n",
       "\n",
       "    .dataframe thead th {\n",
       "        text-align: right;\n",
       "    }\n",
       "</style>\n",
       "<table border=\"1\" class=\"dataframe\">\n",
       "  <thead>\n",
       "    <tr style=\"text-align: right;\">\n",
       "      <th></th>\n",
       "      <th>user</th>\n",
       "      <th>full_text</th>\n",
       "      <th>posting_time</th>\n",
       "    </tr>\n",
       "  </thead>\n",
       "  <tbody>\n",
       "    <tr>\n",
       "      <th>0</th>\n",
       "      <td>Julian Hill MP</td>\n",
       "      <td>@DougCameron51 @JoshFrydenberg Same level of c...</td>\n",
       "      <td>Sat Oct 16 02:43:22 +0000 2021</td>\n",
       "    </tr>\n",
       "    <tr>\n",
       "      <th>2</th>\n",
       "      <td>Julian Hill MP</td>\n",
       "      <td>So 8 years of failure &amp;amp; missed opportuniti...</td>\n",
       "      <td>Fri Oct 15 20:31:24 +0000 2021</td>\n",
       "    </tr>\n",
       "    <tr>\n",
       "      <th>4</th>\n",
       "      <td>Julian Hill MP</td>\n",
       "      <td>Ummm, Matty, you do know how that story ends r...</td>\n",
       "      <td>Thu Oct 14 23:49:50 +0000 2021</td>\n",
       "    </tr>\n",
       "    <tr>\n",
       "      <th>5</th>\n",
       "      <td>Julian Hill MP</td>\n",
       "      <td>@mattjcan Ummm, you do know how that story end...</td>\n",
       "      <td>Thu Oct 14 23:44:18 +0000 2021</td>\n",
       "    </tr>\n",
       "    <tr>\n",
       "      <th>6</th>\n",
       "      <td>Julian Hill MP</td>\n",
       "      <td>How many tools can you count in this photo? ht...</td>\n",
       "      <td>Thu Oct 14 21:54:55 +0000 2021</td>\n",
       "    </tr>\n",
       "  </tbody>\n",
       "</table>\n",
       "</div>"
      ],
      "text/plain": [
       "             user                                          full_text  \\\n",
       "0  Julian Hill MP  @DougCameron51 @JoshFrydenberg Same level of c...   \n",
       "2  Julian Hill MP  So 8 years of failure &amp; missed opportuniti...   \n",
       "4  Julian Hill MP  Ummm, Matty, you do know how that story ends r...   \n",
       "5  Julian Hill MP  @mattjcan Ummm, you do know how that story end...   \n",
       "6  Julian Hill MP  How many tools can you count in this photo? ht...   \n",
       "\n",
       "                     posting_time  \n",
       "0  Sat Oct 16 02:43:22 +0000 2021  \n",
       "2  Fri Oct 15 20:31:24 +0000 2021  \n",
       "4  Thu Oct 14 23:49:50 +0000 2021  \n",
       "5  Thu Oct 14 23:44:18 +0000 2021  \n",
       "6  Thu Oct 14 21:54:55 +0000 2021  "
      ]
     },
     "execution_count": 19,
     "metadata": {},
     "output_type": "execute_result"
    }
   ],
   "source": [
    "df = df[~df['full_text'].str.startswith('RT')]\n",
    "df.head(5)"
   ]
  },
  {
   "cell_type": "markdown",
   "metadata": {},
   "source": [
    "Removing url links, extracting url links from the full text"
   ]
  },
  {
   "cell_type": "code",
   "execution_count": 20,
   "metadata": {},
   "outputs": [
    {
     "data": {
      "text/html": [
       "<div>\n",
       "<style scoped>\n",
       "    .dataframe tbody tr th:only-of-type {\n",
       "        vertical-align: middle;\n",
       "    }\n",
       "\n",
       "    .dataframe tbody tr th {\n",
       "        vertical-align: top;\n",
       "    }\n",
       "\n",
       "    .dataframe thead th {\n",
       "        text-align: right;\n",
       "    }\n",
       "</style>\n",
       "<table border=\"1\" class=\"dataframe\">\n",
       "  <thead>\n",
       "    <tr style=\"text-align: right;\">\n",
       "      <th></th>\n",
       "      <th>user</th>\n",
       "      <th>full_text</th>\n",
       "      <th>posting_time</th>\n",
       "      <th>text_without_links</th>\n",
       "      <th>tweet_links</th>\n",
       "      <th>include_links</th>\n",
       "    </tr>\n",
       "  </thead>\n",
       "  <tbody>\n",
       "    <tr>\n",
       "      <th>0</th>\n",
       "      <td>Julian Hill MP</td>\n",
       "      <td>@DougCameron51 @JoshFrydenberg Same level of c...</td>\n",
       "      <td>Sat Oct 16 02:43:22 +0000 2021</td>\n",
       "      <td>@DougCameron51 @JoshFrydenberg Same level of c...</td>\n",
       "      <td>[]</td>\n",
       "      <td>False</td>\n",
       "    </tr>\n",
       "    <tr>\n",
       "      <th>1</th>\n",
       "      <td>Julian Hill MP</td>\n",
       "      <td>So 8 years of failure &amp;amp; missed opportuniti...</td>\n",
       "      <td>Fri Oct 15 20:31:24 +0000 2021</td>\n",
       "      <td>So 8 years of failure &amp;amp; missed opportuniti...</td>\n",
       "      <td>[https://t.co/umIMNafcM2]</td>\n",
       "      <td>True</td>\n",
       "    </tr>\n",
       "    <tr>\n",
       "      <th>2</th>\n",
       "      <td>Julian Hill MP</td>\n",
       "      <td>Ummm, Matty, you do know how that story ends r...</td>\n",
       "      <td>Thu Oct 14 23:49:50 +0000 2021</td>\n",
       "      <td>Ummm, Matty, you do know how that story ends r...</td>\n",
       "      <td>[https://t.co/WG6qxHRRhI]</td>\n",
       "      <td>True</td>\n",
       "    </tr>\n",
       "    <tr>\n",
       "      <th>3</th>\n",
       "      <td>Julian Hill MP</td>\n",
       "      <td>@mattjcan Ummm, you do know how that story end...</td>\n",
       "      <td>Thu Oct 14 23:44:18 +0000 2021</td>\n",
       "      <td>@mattjcan Ummm, you do know how that story end...</td>\n",
       "      <td>[]</td>\n",
       "      <td>False</td>\n",
       "    </tr>\n",
       "    <tr>\n",
       "      <th>4</th>\n",
       "      <td>Julian Hill MP</td>\n",
       "      <td>How many tools can you count in this photo? ht...</td>\n",
       "      <td>Thu Oct 14 21:54:55 +0000 2021</td>\n",
       "      <td>How many tools can you count in this photo?</td>\n",
       "      <td>[https://t.co/Bk7cMCoWsG]</td>\n",
       "      <td>True</td>\n",
       "    </tr>\n",
       "  </tbody>\n",
       "</table>\n",
       "</div>"
      ],
      "text/plain": [
       "             user                                          full_text  \\\n",
       "0  Julian Hill MP  @DougCameron51 @JoshFrydenberg Same level of c...   \n",
       "1  Julian Hill MP  So 8 years of failure &amp; missed opportuniti...   \n",
       "2  Julian Hill MP  Ummm, Matty, you do know how that story ends r...   \n",
       "3  Julian Hill MP  @mattjcan Ummm, you do know how that story end...   \n",
       "4  Julian Hill MP  How many tools can you count in this photo? ht...   \n",
       "\n",
       "                     posting_time  \\\n",
       "0  Sat Oct 16 02:43:22 +0000 2021   \n",
       "1  Fri Oct 15 20:31:24 +0000 2021   \n",
       "2  Thu Oct 14 23:49:50 +0000 2021   \n",
       "3  Thu Oct 14 23:44:18 +0000 2021   \n",
       "4  Thu Oct 14 21:54:55 +0000 2021   \n",
       "\n",
       "                                  text_without_links  \\\n",
       "0  @DougCameron51 @JoshFrydenberg Same level of c...   \n",
       "1  So 8 years of failure &amp; missed opportuniti...   \n",
       "2  Ummm, Matty, you do know how that story ends r...   \n",
       "3  @mattjcan Ummm, you do know how that story end...   \n",
       "4       How many tools can you count in this photo?    \n",
       "\n",
       "                 tweet_links  include_links  \n",
       "0                         []          False  \n",
       "1  [https://t.co/umIMNafcM2]           True  \n",
       "2  [https://t.co/WG6qxHRRhI]           True  \n",
       "3                         []          False  \n",
       "4  [https://t.co/Bk7cMCoWsG]           True  "
      ]
     },
     "execution_count": 20,
     "metadata": {},
     "output_type": "execute_result"
    }
   ],
   "source": [
    "df['text_without_links'] = df['full_text'].str.replace('http\\S+|www.\\S+', '', case = False)\n",
    "df['tweet_links'] = df['full_text'].apply(lambda x: re.findall(r\"http\\S+|www.\\S+\", x))\n",
    "df['include_links'] = df['full_text'].apply(lambda x: re.findall(r\"http\\S+|www.\\S+\", x)).apply((lambda x: len(x) != 0))\n",
    "df.reset_index(drop=True, inplace=True)\n",
    "df.head(5)"
   ]
  },
  {
   "cell_type": "code",
   "execution_count": 21,
   "metadata": {},
   "outputs": [
    {
     "name": "stdout",
     "output_type": "stream",
     "text": [
      "@DougCameron51 @JoshFrydenberg Same level of courage as Peter Costello. But a far far worse Treasurer - record debt, still in deficit and a weak economy - and that was before COVID!\n",
      "*******************************\n",
      "So 8 years of failure &amp; missed opportunities - 21 failed climate policies already - isn’t long enough?\n",
      "#auspol \n"
     ]
    }
   ],
   "source": [
    "print(df['text_without_links'][0])\n",
    "print('*******************************')\n",
    "print(df['text_without_links'][1])"
   ]
  },
  {
   "cell_type": "markdown",
   "metadata": {},
   "source": [
    "Creating new df to calculate proportion of tweet including pictures or links"
   ]
  },
  {
   "cell_type": "code",
   "execution_count": 22,
   "metadata": {},
   "outputs": [
    {
     "data": {
      "text/html": [
       "<div>\n",
       "<style scoped>\n",
       "    .dataframe tbody tr th:only-of-type {\n",
       "        vertical-align: middle;\n",
       "    }\n",
       "\n",
       "    .dataframe tbody tr th {\n",
       "        vertical-align: top;\n",
       "    }\n",
       "\n",
       "    .dataframe thead th {\n",
       "        text-align: right;\n",
       "    }\n",
       "</style>\n",
       "<table border=\"1\" class=\"dataframe\">\n",
       "  <thead>\n",
       "    <tr style=\"text-align: right;\">\n",
       "      <th></th>\n",
       "      <th>user</th>\n",
       "      <th>include_links</th>\n",
       "      <th>count</th>\n",
       "      <th>total</th>\n",
       "    </tr>\n",
       "  </thead>\n",
       "  <tbody>\n",
       "    <tr>\n",
       "      <th>2</th>\n",
       "      <td>Scott Morrison</td>\n",
       "      <td>False</td>\n",
       "      <td>58</td>\n",
       "      <td>166</td>\n",
       "    </tr>\n",
       "    <tr>\n",
       "      <th>3</th>\n",
       "      <td>Scott Morrison</td>\n",
       "      <td>True</td>\n",
       "      <td>108</td>\n",
       "      <td>166</td>\n",
       "    </tr>\n",
       "    <tr>\n",
       "      <th>0</th>\n",
       "      <td>Julian Hill MP</td>\n",
       "      <td>False</td>\n",
       "      <td>47</td>\n",
       "      <td>138</td>\n",
       "    </tr>\n",
       "    <tr>\n",
       "      <th>1</th>\n",
       "      <td>Julian Hill MP</td>\n",
       "      <td>True</td>\n",
       "      <td>91</td>\n",
       "      <td>138</td>\n",
       "    </tr>\n",
       "  </tbody>\n",
       "</table>\n",
       "</div>"
      ],
      "text/plain": [
       "             user  include_links  count  total\n",
       "2  Scott Morrison          False     58    166\n",
       "3  Scott Morrison           True    108    166\n",
       "0  Julian Hill MP          False     47    138\n",
       "1  Julian Hill MP           True     91    138"
      ]
     },
     "execution_count": 22,
     "metadata": {},
     "output_type": "execute_result"
    }
   ],
   "source": [
    "media_prob = df.groupby(['user','include_links']).size().reset_index(name ='count')\n",
    "media_prob['total'] = media_prob.groupby(['user'])['count'].transform('sum')\n",
    "media_prob = media_prob.sort_values(by=['total'], ascending=False)\n",
    "media_prob"
   ]
  },
  {
   "cell_type": "code",
   "execution_count": 23,
   "metadata": {},
   "outputs": [
    {
     "data": {
      "text/html": [
       "<div>\n",
       "<style scoped>\n",
       "    .dataframe tbody tr th:only-of-type {\n",
       "        vertical-align: middle;\n",
       "    }\n",
       "\n",
       "    .dataframe tbody tr th {\n",
       "        vertical-align: top;\n",
       "    }\n",
       "\n",
       "    .dataframe thead th {\n",
       "        text-align: right;\n",
       "    }\n",
       "</style>\n",
       "<table border=\"1\" class=\"dataframe\">\n",
       "  <thead>\n",
       "    <tr style=\"text-align: right;\">\n",
       "      <th></th>\n",
       "      <th>user</th>\n",
       "      <th>include_links</th>\n",
       "      <th>count</th>\n",
       "      <th>total</th>\n",
       "      <th>percentage</th>\n",
       "    </tr>\n",
       "  </thead>\n",
       "  <tbody>\n",
       "    <tr>\n",
       "      <th>2</th>\n",
       "      <td>Scott Morrison</td>\n",
       "      <td>False</td>\n",
       "      <td>58</td>\n",
       "      <td>166</td>\n",
       "      <td>34.939759</td>\n",
       "    </tr>\n",
       "    <tr>\n",
       "      <th>3</th>\n",
       "      <td>Scott Morrison</td>\n",
       "      <td>True</td>\n",
       "      <td>108</td>\n",
       "      <td>166</td>\n",
       "      <td>65.060241</td>\n",
       "    </tr>\n",
       "    <tr>\n",
       "      <th>0</th>\n",
       "      <td>Julian Hill MP</td>\n",
       "      <td>False</td>\n",
       "      <td>47</td>\n",
       "      <td>138</td>\n",
       "      <td>34.057971</td>\n",
       "    </tr>\n",
       "    <tr>\n",
       "      <th>1</th>\n",
       "      <td>Julian Hill MP</td>\n",
       "      <td>True</td>\n",
       "      <td>91</td>\n",
       "      <td>138</td>\n",
       "      <td>65.942029</td>\n",
       "    </tr>\n",
       "  </tbody>\n",
       "</table>\n",
       "</div>"
      ],
      "text/plain": [
       "             user  include_links  count  total  percentage\n",
       "2  Scott Morrison          False     58    166   34.939759\n",
       "3  Scott Morrison           True    108    166   65.060241\n",
       "0  Julian Hill MP          False     47    138   34.057971\n",
       "1  Julian Hill MP           True     91    138   65.942029"
      ]
     },
     "execution_count": 23,
     "metadata": {},
     "output_type": "execute_result"
    }
   ],
   "source": [
    "media_prob['percentage'] = [i / j * 100 for i,j in zip(media_prob['count'], media_prob['total'])]\n",
    "media_prob"
   ]
  },
  {
   "cell_type": "code",
   "execution_count": 24,
   "metadata": {},
   "outputs": [
    {
     "data": {
      "text/html": [
       "<div>\n",
       "<style scoped>\n",
       "    .dataframe tbody tr th:only-of-type {\n",
       "        vertical-align: middle;\n",
       "    }\n",
       "\n",
       "    .dataframe tbody tr th {\n",
       "        vertical-align: top;\n",
       "    }\n",
       "\n",
       "    .dataframe thead th {\n",
       "        text-align: right;\n",
       "    }\n",
       "</style>\n",
       "<table border=\"1\" class=\"dataframe\">\n",
       "  <thead>\n",
       "    <tr style=\"text-align: right;\">\n",
       "      <th></th>\n",
       "      <th>user</th>\n",
       "      <th>percentage</th>\n",
       "    </tr>\n",
       "  </thead>\n",
       "  <tbody>\n",
       "    <tr>\n",
       "      <th>3</th>\n",
       "      <td>Scott Morrison</td>\n",
       "      <td>65.060241</td>\n",
       "    </tr>\n",
       "    <tr>\n",
       "      <th>1</th>\n",
       "      <td>Julian Hill MP</td>\n",
       "      <td>65.942029</td>\n",
       "    </tr>\n",
       "  </tbody>\n",
       "</table>\n",
       "</div>"
      ],
      "text/plain": [
       "             user  percentage\n",
       "3  Scott Morrison   65.060241\n",
       "1  Julian Hill MP   65.942029"
      ]
     },
     "execution_count": 24,
     "metadata": {},
     "output_type": "execute_result"
    }
   ],
   "source": [
    "cols = ['user', 'percentage']\n",
    "media_prob_true = media_prob[media_prob['include_links'] == True]\n",
    "media_prob_true = media_prob_true[cols]\n",
    "media_prob_true"
   ]
  },
  {
   "cell_type": "code",
   "execution_count": 25,
   "metadata": {},
   "outputs": [
    {
     "data": {
      "text/plain": [
       "Text(0.5, 0, 'User')"
      ]
     },
     "execution_count": 25,
     "metadata": {},
     "output_type": "execute_result"
    },
    {
     "data": {
      "image/png": "[encoded data removed]",
      "text/plain": [
       "<Figure size 576x288 with 1 Axes>"
      ]
     },
     "metadata": {
      "needs_background": "light"
     },
     "output_type": "display_data"
    }
   ],
   "source": [
    "ax = media_prob_true.plot(kind='bar', x='user', y= 'percentage', figsize=(8,4), width=0.4, rot=0)\n",
    "for p in ax.patches:\n",
    "    width = p.get_width()\n",
    "    height = p.get_height()\n",
    "    x, y = p.get_xy() \n",
    "    ax.annotate(f'{height.round(2)}%', (x + width/2, y + height*1.1), ha='center')\n",
    "ax.set_ylim(0, 100)\n",
    "ax.set_title('The proportions of tweets containing pictures or links')\n",
    "ax.set_ylabel('Percentage')\n",
    "ax.set_xlabel('User')"
   ]
  },
  {
   "cell_type": "markdown",
   "metadata": {},
   "source": [
    "**Task 4** Use pandas to construct a histogram of the number of hashtags in tweets for each of the two users."
   ]
  },
  {
   "cell_type": "markdown",
   "metadata": {},
   "source": [
    "Removing, extracting and counting hashtags of each tweet"
   ]
  },
  {
   "cell_type": "code",
   "execution_count": 26,
   "metadata": {},
   "outputs": [
    {
     "data": {
      "text/html": [
       "<div>\n",
       "<style scoped>\n",
       "    .dataframe tbody tr th:only-of-type {\n",
       "        vertical-align: middle;\n",
       "    }\n",
       "\n",
       "    .dataframe tbody tr th {\n",
       "        vertical-align: top;\n",
       "    }\n",
       "\n",
       "    .dataframe thead th {\n",
       "        text-align: right;\n",
       "    }\n",
       "</style>\n",
       "<table border=\"1\" class=\"dataframe\">\n",
       "  <thead>\n",
       "    <tr style=\"text-align: right;\">\n",
       "      <th></th>\n",
       "      <th>user</th>\n",
       "      <th>full_text</th>\n",
       "      <th>posting_time</th>\n",
       "      <th>text_without_links</th>\n",
       "      <th>tweet_links</th>\n",
       "      <th>include_links</th>\n",
       "      <th>text_without_hashtags</th>\n",
       "      <th>hashtags</th>\n",
       "      <th>hashtags_count</th>\n",
       "    </tr>\n",
       "  </thead>\n",
       "  <tbody>\n",
       "    <tr>\n",
       "      <th>0</th>\n",
       "      <td>Julian Hill MP</td>\n",
       "      <td>@DougCameron51 @JoshFrydenberg Same level of c...</td>\n",
       "      <td>Sat Oct 16 02:43:22 +0000 2021</td>\n",
       "      <td>@DougCameron51 @JoshFrydenberg Same level of c...</td>\n",
       "      <td>[]</td>\n",
       "      <td>False</td>\n",
       "      <td>@DougCameron51 @JoshFrydenberg Same level of c...</td>\n",
       "      <td>[]</td>\n",
       "      <td>0</td>\n",
       "    </tr>\n",
       "    <tr>\n",
       "      <th>1</th>\n",
       "      <td>Julian Hill MP</td>\n",
       "      <td>So 8 years of failure &amp;amp; missed opportuniti...</td>\n",
       "      <td>Fri Oct 15 20:31:24 +0000 2021</td>\n",
       "      <td>So 8 years of failure &amp;amp; missed opportuniti...</td>\n",
       "      <td>[https://t.co/umIMNafcM2]</td>\n",
       "      <td>True</td>\n",
       "      <td>So 8 years of failure &amp;amp; missed opportuniti...</td>\n",
       "      <td>[auspol]</td>\n",
       "      <td>1</td>\n",
       "    </tr>\n",
       "    <tr>\n",
       "      <th>2</th>\n",
       "      <td>Julian Hill MP</td>\n",
       "      <td>Ummm, Matty, you do know how that story ends r...</td>\n",
       "      <td>Thu Oct 14 23:49:50 +0000 2021</td>\n",
       "      <td>Ummm, Matty, you do know how that story ends r...</td>\n",
       "      <td>[https://t.co/WG6qxHRRhI]</td>\n",
       "      <td>True</td>\n",
       "      <td>Ummm, Matty, you do know how that story ends r...</td>\n",
       "      <td>[auspol]</td>\n",
       "      <td>1</td>\n",
       "    </tr>\n",
       "    <tr>\n",
       "      <th>3</th>\n",
       "      <td>Julian Hill MP</td>\n",
       "      <td>@mattjcan Ummm, you do know how that story end...</td>\n",
       "      <td>Thu Oct 14 23:44:18 +0000 2021</td>\n",
       "      <td>@mattjcan Ummm, you do know how that story end...</td>\n",
       "      <td>[]</td>\n",
       "      <td>False</td>\n",
       "      <td>@mattjcan Ummm, you do know how that story end...</td>\n",
       "      <td>[auspol]</td>\n",
       "      <td>1</td>\n",
       "    </tr>\n",
       "    <tr>\n",
       "      <th>4</th>\n",
       "      <td>Julian Hill MP</td>\n",
       "      <td>How many tools can you count in this photo? ht...</td>\n",
       "      <td>Thu Oct 14 21:54:55 +0000 2021</td>\n",
       "      <td>How many tools can you count in this photo?</td>\n",
       "      <td>[https://t.co/Bk7cMCoWsG]</td>\n",
       "      <td>True</td>\n",
       "      <td>How many tools can you count in this photo?</td>\n",
       "      <td>[]</td>\n",
       "      <td>0</td>\n",
       "    </tr>\n",
       "  </tbody>\n",
       "</table>\n",
       "</div>"
      ],
      "text/plain": [
       "             user                                          full_text  \\\n",
       "0  Julian Hill MP  @DougCameron51 @JoshFrydenberg Same level of c...   \n",
       "1  Julian Hill MP  So 8 years of failure &amp; missed opportuniti...   \n",
       "2  Julian Hill MP  Ummm, Matty, you do know how that story ends r...   \n",
       "3  Julian Hill MP  @mattjcan Ummm, you do know how that story end...   \n",
       "4  Julian Hill MP  How many tools can you count in this photo? ht...   \n",
       "\n",
       "                     posting_time  \\\n",
       "0  Sat Oct 16 02:43:22 +0000 2021   \n",
       "1  Fri Oct 15 20:31:24 +0000 2021   \n",
       "2  Thu Oct 14 23:49:50 +0000 2021   \n",
       "3  Thu Oct 14 23:44:18 +0000 2021   \n",
       "4  Thu Oct 14 21:54:55 +0000 2021   \n",
       "\n",
       "                                  text_without_links  \\\n",
       "0  @DougCameron51 @JoshFrydenberg Same level of c...   \n",
       "1  So 8 years of failure &amp; missed opportuniti...   \n",
       "2  Ummm, Matty, you do know how that story ends r...   \n",
       "3  @mattjcan Ummm, you do know how that story end...   \n",
       "4       How many tools can you count in this photo?    \n",
       "\n",
       "                 tweet_links  include_links  \\\n",
       "0                         []          False   \n",
       "1  [https://t.co/umIMNafcM2]           True   \n",
       "2  [https://t.co/WG6qxHRRhI]           True   \n",
       "3                         []          False   \n",
       "4  [https://t.co/Bk7cMCoWsG]           True   \n",
       "\n",
       "                               text_without_hashtags  hashtags  hashtags_count  \n",
       "0  @DougCameron51 @JoshFrydenberg Same level of c...        []               0  \n",
       "1  So 8 years of failure &amp; missed opportuniti...  [auspol]               1  \n",
       "2  Ummm, Matty, you do know how that story ends r...  [auspol]               1  \n",
       "3  @mattjcan Ummm, you do know how that story end...  [auspol]               1  \n",
       "4       How many tools can you count in this photo?         []               0  "
      ]
     },
     "execution_count": 26,
     "metadata": {},
     "output_type": "execute_result"
    }
   ],
   "source": [
    "hashtag = re.compile(\"#(\\w+)\")\n",
    "df['text_without_hashtags'] = df['text_without_links'].apply(lambda x: hashtag.sub(r'', x))\n",
    "df['hashtags'] = df['full_text'].apply(lambda x: re.findall(r\"#(\\w+)\", x))\n",
    "df['hashtags_count'] = df['full_text'].apply(lambda x: re.findall(r\"#(\\w+)\", x)).apply((lambda x: len(x)))\n",
    "df.head(5)"
   ]
  },
  {
   "cell_type": "markdown",
   "metadata": {},
   "source": [
    "Creating new df to calculate hashtags frequency of each users"
   ]
  },
  {
   "cell_type": "code",
   "execution_count": 27,
   "metadata": {},
   "outputs": [
    {
     "data": {
      "text/html": [
       "<div>\n",
       "<style scoped>\n",
       "    .dataframe tbody tr th:only-of-type {\n",
       "        vertical-align: middle;\n",
       "    }\n",
       "\n",
       "    .dataframe tbody tr th {\n",
       "        vertical-align: top;\n",
       "    }\n",
       "\n",
       "    .dataframe thead th {\n",
       "        text-align: right;\n",
       "    }\n",
       "</style>\n",
       "<table border=\"1\" class=\"dataframe\">\n",
       "  <thead>\n",
       "    <tr style=\"text-align: right;\">\n",
       "      <th></th>\n",
       "      <th>hashtags_count</th>\n",
       "      <th>JulianHill</th>\n",
       "    </tr>\n",
       "  </thead>\n",
       "  <tbody>\n",
       "    <tr>\n",
       "      <th>0</th>\n",
       "      <td>0</td>\n",
       "      <td>49</td>\n",
       "    </tr>\n",
       "    <tr>\n",
       "      <th>1</th>\n",
       "      <td>1</td>\n",
       "      <td>38</td>\n",
       "    </tr>\n",
       "    <tr>\n",
       "      <th>2</th>\n",
       "      <td>2</td>\n",
       "      <td>26</td>\n",
       "    </tr>\n",
       "    <tr>\n",
       "      <th>3</th>\n",
       "      <td>3</td>\n",
       "      <td>10</td>\n",
       "    </tr>\n",
       "    <tr>\n",
       "      <th>4</th>\n",
       "      <td>4</td>\n",
       "      <td>12</td>\n",
       "    </tr>\n",
       "    <tr>\n",
       "      <th>5</th>\n",
       "      <td>5</td>\n",
       "      <td>2</td>\n",
       "    </tr>\n",
       "    <tr>\n",
       "      <th>6</th>\n",
       "      <td>6</td>\n",
       "      <td>1</td>\n",
       "    </tr>\n",
       "  </tbody>\n",
       "</table>\n",
       "</div>"
      ],
      "text/plain": [
       "   hashtags_count  JulianHill\n",
       "0               0          49\n",
       "1               1          38\n",
       "2               2          26\n",
       "3               3          10\n",
       "4               4          12\n",
       "5               5           2\n",
       "6               6           1"
      ]
     },
     "execution_count": 27,
     "metadata": {},
     "output_type": "execute_result"
    }
   ],
   "source": [
    "hashtags_JH = df[df['user'] == 'Julian Hill MP']\n",
    "hashtags_JH = hashtags_JH['hashtags_count'].value_counts().sort_index().to_frame('JulianHill')\n",
    "hashtags_JH['hashtags_count'] = hashtags_JH.index\n",
    "hashtags_JH = hashtags_JH[['hashtags_count', 'JulianHill']]\n",
    "hashtags_JH.reset_index(drop=True, inplace=True)\n",
    "hashtags_JH"
   ]
  },
  {
   "cell_type": "code",
   "execution_count": 28,
   "metadata": {},
   "outputs": [
    {
     "data": {
      "text/html": [
       "<div>\n",
       "<style scoped>\n",
       "    .dataframe tbody tr th:only-of-type {\n",
       "        vertical-align: middle;\n",
       "    }\n",
       "\n",
       "    .dataframe tbody tr th {\n",
       "        vertical-align: top;\n",
       "    }\n",
       "\n",
       "    .dataframe thead th {\n",
       "        text-align: right;\n",
       "    }\n",
       "</style>\n",
       "<table border=\"1\" class=\"dataframe\">\n",
       "  <thead>\n",
       "    <tr style=\"text-align: right;\">\n",
       "      <th></th>\n",
       "      <th>hashtags_count</th>\n",
       "      <th>ScottMorrison</th>\n",
       "    </tr>\n",
       "  </thead>\n",
       "  <tbody>\n",
       "    <tr>\n",
       "      <th>0</th>\n",
       "      <td>0</td>\n",
       "      <td>112</td>\n",
       "    </tr>\n",
       "    <tr>\n",
       "      <th>1</th>\n",
       "      <td>1</td>\n",
       "      <td>45</td>\n",
       "    </tr>\n",
       "    <tr>\n",
       "      <th>2</th>\n",
       "      <td>2</td>\n",
       "      <td>7</td>\n",
       "    </tr>\n",
       "    <tr>\n",
       "      <th>3</th>\n",
       "      <td>3</td>\n",
       "      <td>2</td>\n",
       "    </tr>\n",
       "  </tbody>\n",
       "</table>\n",
       "</div>"
      ],
      "text/plain": [
       "   hashtags_count  ScottMorrison\n",
       "0               0            112\n",
       "1               1             45\n",
       "2               2              7\n",
       "3               3              2"
      ]
     },
     "execution_count": 28,
     "metadata": {},
     "output_type": "execute_result"
    }
   ],
   "source": [
    "hashtags_SM = df[df['user'] == 'Scott Morrison']\n",
    "hashtags_SM = hashtags_SM['hashtags_count'].value_counts().sort_index().to_frame('ScottMorrison')\n",
    "hashtags_SM['hashtags_count'] = hashtags_SM.index\n",
    "hashtags_SM = hashtags_SM[['hashtags_count', 'ScottMorrison']]\n",
    "hashtags_SM.reset_index(drop=True, inplace=True)\n",
    "hashtags_SM"
   ]
  },
  {
   "cell_type": "code",
   "execution_count": 29,
   "metadata": {},
   "outputs": [
    {
     "data": {
      "text/html": [
       "<div>\n",
       "<style scoped>\n",
       "    .dataframe tbody tr th:only-of-type {\n",
       "        vertical-align: middle;\n",
       "    }\n",
       "\n",
       "    .dataframe tbody tr th {\n",
       "        vertical-align: top;\n",
       "    }\n",
       "\n",
       "    .dataframe thead th {\n",
       "        text-align: right;\n",
       "    }\n",
       "</style>\n",
       "<table border=\"1\" class=\"dataframe\">\n",
       "  <thead>\n",
       "    <tr style=\"text-align: right;\">\n",
       "      <th></th>\n",
       "      <th>JulianHill</th>\n",
       "      <th>ScottMorrison</th>\n",
       "    </tr>\n",
       "    <tr>\n",
       "      <th>hashtags_count</th>\n",
       "      <th></th>\n",
       "      <th></th>\n",
       "    </tr>\n",
       "  </thead>\n",
       "  <tbody>\n",
       "    <tr>\n",
       "      <th>0</th>\n",
       "      <td>49</td>\n",
       "      <td>112</td>\n",
       "    </tr>\n",
       "    <tr>\n",
       "      <th>1</th>\n",
       "      <td>38</td>\n",
       "      <td>45</td>\n",
       "    </tr>\n",
       "    <tr>\n",
       "      <th>2</th>\n",
       "      <td>26</td>\n",
       "      <td>7</td>\n",
       "    </tr>\n",
       "    <tr>\n",
       "      <th>3</th>\n",
       "      <td>10</td>\n",
       "      <td>2</td>\n",
       "    </tr>\n",
       "    <tr>\n",
       "      <th>4</th>\n",
       "      <td>12</td>\n",
       "      <td>0</td>\n",
       "    </tr>\n",
       "    <tr>\n",
       "      <th>5</th>\n",
       "      <td>2</td>\n",
       "      <td>0</td>\n",
       "    </tr>\n",
       "    <tr>\n",
       "      <th>6</th>\n",
       "      <td>1</td>\n",
       "      <td>0</td>\n",
       "    </tr>\n",
       "  </tbody>\n",
       "</table>\n",
       "</div>"
      ],
      "text/plain": [
       "                JulianHill  ScottMorrison\n",
       "hashtags_count                           \n",
       "0                       49            112\n",
       "1                       38             45\n",
       "2                       26              7\n",
       "3                       10              2\n",
       "4                       12              0\n",
       "5                        2              0\n",
       "6                        1              0"
      ]
     },
     "execution_count": 29,
     "metadata": {},
     "output_type": "execute_result"
    }
   ],
   "source": [
    "all_hashtags = pd.merge(hashtags_JH, hashtags_SM, on = ['hashtags_count'], how = 'outer')\n",
    "all_hashtags.fillna(0, inplace=True)\n",
    "all_hashtags['JulianHill'] = all_hashtags['JulianHill']. astype(int)\n",
    "all_hashtags['ScottMorrison'] = all_hashtags['ScottMorrison']. astype(int)\n",
    "all_hashtags.set_index('hashtags_count', inplace=True)\n",
    "all_hashtags = all_hashtags.sort_index()\n",
    "all_hashtags"
   ]
  },
  {
   "cell_type": "markdown",
   "metadata": {},
   "source": [
    "Preparing dataframe for ploting a histogram of hashtags frequency of each users"
   ]
  },
  {
   "cell_type": "code",
   "execution_count": 30,
   "metadata": {},
   "outputs": [],
   "source": [
    "hashtags_JH = df[df['user'] == 'Julian Hill MP']\n",
    "hashtags_JH = hashtags_JH['hashtags_count']\n",
    "#hashtags_JH\n",
    "hashtags_SM = df[df['user'] == 'Scott Morrison']\n",
    "hashtags_SM = hashtags_SM['hashtags_count']\n",
    "#hashtags_SM"
   ]
  },
  {
   "cell_type": "code",
   "execution_count": 31,
   "metadata": {},
   "outputs": [
    {
     "data": {
      "image/png": "[encoded data removed]",
      "text/plain": [
       "<Figure size 432x288 with 1 Axes>"
      ]
     },
     "metadata": {
      "needs_background": "light"
     },
     "output_type": "display_data"
    }
   ],
   "source": [
    "plt.hist([hashtags_JH, hashtags_SM], label=['JulianHill', 'ScottMorrison'], bins = 10)\n",
    "plt.figsize=(8,6)\n",
    "plt.title('The number of hashtags in tweets for each of JulianHillMP and ScottMorrisonMP', fontsize = 12)\n",
    "plt.xlabel('Hashtags', fontsize = 12)\n",
    "plt.ylabel('Frequency', fontsize = 12)\n",
    "plt.legend(loc='upper right')\n",
    "plt.tight_layout()"
   ]
  },
  {
   "cell_type": "markdown",
   "metadata": {},
   "source": [
    "**Task 5** Calculate the log odds ratio (check here for an example) for each word used in the set of tweets, and list the 20 words most strongly associated with each of the two users."
   ]
  },
  {
   "cell_type": "code",
   "execution_count": null,
   "metadata": {},
   "outputs": [],
   "source": [
    "df.head(5)"
   ]
  },
  {
   "cell_type": "code",
   "execution_count": null,
   "metadata": {},
   "outputs": [],
   "source": [
    "print(df['full_text'][1])\n",
    "print('*******************************************')\n",
    "print(df['text_without_links'][1])\n",
    "print('*******************************************')\n",
    "print(df['text_without_hashtags'][1])"
   ]
  },
  {
   "cell_type": "code",
   "execution_count": null,
   "metadata": {},
   "outputs": [],
   "source": [
    "cols = ['user', 'text_without_hashtags']\n",
    "df2=df[cols]\n",
    "df2"
   ]
  },
  {
   "cell_type": "code",
   "execution_count": null,
   "metadata": {},
   "outputs": [],
   "source": [
    "mmomomo"
   ]
  },
  {
   "cell_type": "markdown",
   "metadata": {},
   "source": [
    "__Cleaning tweets__"
   ]
  },
  {
   "cell_type": "markdown",
   "metadata": {},
   "source": [
    "Remove emails and metions"
   ]
  },
  {
   "cell_type": "code",
   "execution_count": null,
   "metadata": {},
   "outputs": [],
   "source": [
    "df2['mentions'] = df['full_text'].apply(lambda x: re.findall(r'\\S*@\\S*\\s?', x))\n",
    "df2"
   ]
  },
  {
   "cell_type": "code",
   "execution_count": null,
   "metadata": {},
   "outputs": [],
   "source": [
    "#df2['email'][7]"
   ]
  },
  {
   "cell_type": "code",
   "execution_count": null,
   "metadata": {},
   "outputs": [],
   "source": [
    "#df2['mentions'] = df['full_text'].apply(lambda x: re.findall(r\"@[^\\s]+\", x))\n",
    "#df2"
   ]
  },
  {
   "cell_type": "code",
   "execution_count": null,
   "metadata": {},
   "outputs": [],
   "source": [
    "df2['text_without_mentions'] = df2['text_without_hashtags'].apply(lambda x: re.sub('\\S*@\\S*\\s?', '',x))\n",
    "df2"
   ]
  },
  {
   "cell_type": "code",
   "execution_count": null,
   "metadata": {},
   "outputs": [],
   "source": [
    "#df2['text_without_mentions'][6]"
   ]
  },
  {
   "cell_type": "code",
   "execution_count": null,
   "metadata": {},
   "outputs": [],
   "source": [
    "#print(df['full_text'][6])\n",
    "#print('*******************************************')\n",
    "#print(df['text_without_links'][6])\n",
    "#print('*******************************************')\n",
    "#print(df['text_without_hashtags'][6])"
   ]
  },
  {
   "cell_type": "code",
   "execution_count": null,
   "metadata": {},
   "outputs": [],
   "source": [
    "#df2['mentions-'] = df2['text_without_hashtags'].apply(lambda x: re.findall(r\"@[^\\s]+\", x))\n",
    "#df2['mentions_count'] = df2['text_without_hashtags'].apply(lambda x: re.findall(r\"@[^\\s]+\", x)).apply((lambda x: len(x)))\n",
    "#df2"
   ]
  },
  {
   "cell_type": "code",
   "execution_count": null,
   "metadata": {},
   "outputs": [],
   "source": [
    "#df2[df2['mentions_count'] > 1].head()"
   ]
  },
  {
   "cell_type": "code",
   "execution_count": null,
   "metadata": {},
   "outputs": [],
   "source": [
    "#https://stackoverflow.com/questions/33404752/removing-emojis-from-a-string-in-python\n",
    "emoji_pattern = re.compile(\"[\"\n",
    "        u\"\\U0001F600-\\U0001F64F\"  # emoticons\n",
    "        u\"\\U0001F300-\\U0001F5FF\"  # symbols & pictographs\n",
    "        u\"\\U0001F680-\\U0001F6FF\"  # transport & map symbols\n",
    "        u\"\\U0001F1E0-\\U0001F1FF\"  # flags (iOS)\n",
    "        u\"\\U00002500-\\U00002BEF\"  # chinese char\n",
    "        u\"\\U00002702-\\U000027B0\"\n",
    "        u\"\\U00002702-\\U000027B0\"\n",
    "        u\"\\U000024C2-\\U0001F251\"\n",
    "        u\"\\U0001f926-\\U0001f937\"\n",
    "        u\"\\U00010000-\\U0010ffff\"\n",
    "        u\"\\u2640-\\u2642\" \n",
    "        u\"\\u2600-\\u2B55\"\n",
    "        u\"\\u200d\"\n",
    "        u\"\\u23cf\"\n",
    "        u\"\\u23e9\"\n",
    "        u\"\\u231a\"\n",
    "        u\"\\ufe0f\"  # dingbats\n",
    "        u\"\\u3030\"\n",
    "                           \"]+\", flags=re.UNICODE)\n",
    "df2['text_without_emoji'] = df2['text_without_mentions'].apply(lambda x: emoji_pattern.sub(r'', x))"
   ]
  },
  {
   "cell_type": "code",
   "execution_count": null,
   "metadata": {},
   "outputs": [],
   "source": [
    "df2['text_without_emoji']"
   ]
  },
  {
   "cell_type": "code",
   "execution_count": null,
   "metadata": {},
   "outputs": [],
   "source": [
    "#print(df['full_text'][16])\n",
    "#print('*******************************************')\n",
    "#print(df2['text_without_mentions'][16])\n",
    "#print('*******************************************')\n",
    "#print(df2['text_without_mentions'][16])\n",
    "#print('*******************************************')\n",
    "#print(df2['text_without_emoji'][16])"
   ]
  },
  {
   "cell_type": "code",
   "execution_count": null,
   "metadata": {},
   "outputs": [],
   "source": [
    "df2['text_without_emoji'][5]"
   ]
  },
  {
   "cell_type": "markdown",
   "metadata": {},
   "source": [
    "__Convert all words to lowercase__"
   ]
  },
  {
   "cell_type": "code",
   "execution_count": null,
   "metadata": {},
   "outputs": [],
   "source": [
    "df2['cleaned_tweets'] = df2['text_without_emoji'].apply(lambda x: re.sub(r'\\w', lambda m: m.group(0).lower(),x))\n",
    "df2['cleaned_tweets']"
   ]
  },
  {
   "cell_type": "code",
   "execution_count": null,
   "metadata": {},
   "outputs": [],
   "source": [
    "import string\n",
    "word_list= df2['cleaned_tweets'].apply(lambda x: re.sub('['+string.punctuation+']', '', x).split(), x)\n",
    "word_list"
   ]
  },
  {
   "cell_type": "code",
   "execution_count": null,
   "metadata": {},
   "outputs": [],
   "source": []
  },
  {
   "cell_type": "code",
   "execution_count": null,
   "metadata": {},
   "outputs": [],
   "source": [
    "user= df2['user']\n",
    "user"
   ]
  },
  {
   "cell_type": "code",
   "execution_count": null,
   "metadata": {},
   "outputs": [],
   "source": [
    "#Create df from lists\n",
    "cols = ['User', 'Word_list']\n",
    "data = list(zip(user, word_list))\n",
    "\n",
    "tweets = pd.DataFrame(data, columns=cols)\n",
    "tweets"
   ]
  },
  {
   "cell_type": "code",
   "execution_count": null,
   "metadata": {},
   "outputs": [],
   "source": [
    "tweets_JH = tweets[tweets['User']=='Julian Hill MP']\n",
    "tweets_JH = tweets_JH.reset_index(drop=True)"
   ]
  },
  {
   "cell_type": "code",
   "execution_count": null,
   "metadata": {},
   "outputs": [],
   "source": [
    "JH_words=tweets_JH['Word_list']\n",
    "JH_words"
   ]
  },
  {
   "cell_type": "code",
   "execution_count": null,
   "metadata": {},
   "outputs": [],
   "source": [
    "tweets_SM = tweets[tweets['User']=='Scott Morrison']\n",
    "tweets_SM = tweets_SM.reset_index(drop=True)"
   ]
  },
  {
   "cell_type": "code",
   "execution_count": null,
   "metadata": {},
   "outputs": [],
   "source": [
    "SM_words=tweets_SM['Word_list']\n",
    "SM_words"
   ]
  },
  {
   "cell_type": "code",
   "execution_count": null,
   "metadata": {},
   "outputs": [],
   "source": [
    "#for word in word_list:\n",
    "#    print(word)"
   ]
  },
  {
   "cell_type": "code",
   "execution_count": null,
   "metadata": {},
   "outputs": [],
   "source": [
    "#word_list[4]"
   ]
  },
  {
   "cell_type": "markdown",
   "metadata": {},
   "source": [
    "__Removing stop words with NLTK__"
   ]
  },
  {
   "cell_type": "code",
   "execution_count": null,
   "metadata": {},
   "outputs": [],
   "source": [
    "import nltk\n",
    "from nltk.tokenize import word_tokenize\n",
    "from nltk.stem import PorterStemmer\n",
    "from nltk.corpus import stopwords\n",
    "\n",
    "stop_words = set(stopwords.words('english'))\n",
    "\n",
    "JH_wordlist = []\n",
    "for tweet in JH_words:\n",
    "    for w in tweet:\n",
    "        if w not in stopwords.words(\"english\"):\n",
    "            JH_wordlist.append(w)\n",
    "JH_wordlist"
   ]
  },
  {
   "cell_type": "code",
   "execution_count": null,
   "metadata": {},
   "outputs": [],
   "source": [
    "SM_wordlist = []\n",
    "for tweet in SM_words:\n",
    "    for w in tweet:\n",
    "        if w not in stopwords.words(\"english\"):\n",
    "            SM_wordlist.append(w)\n",
    "SM_wordlist"
   ]
  },
  {
   "cell_type": "code",
   "execution_count": null,
   "metadata": {},
   "outputs": [],
   "source": [
    "from collections import Counter\n",
    "counts_JH = Counter(JH_wordlist)\n",
    "#print(counts_JH)\n",
    "counts_JH1 = pd.DataFrame.from_dict(counts_JH, orient='index').reset_index()\n",
    "counts_JH1 = counts_JH1.rename(columns={'index':'word', 0:'freq'})\n",
    "counts_JH1['user'] = 'Julian Hill MP'\n",
    "counts_JH1['SM_total'] = counts_JH1['freq'].sum()\n",
    "print('Total JH words:',counts_JH1['freq'].sum())\n",
    "sorted_JH = counts_JH1.sort_values(by=['freq'], ascending = [False])[:20]\n",
    "sorted_JH"
   ]
  },
  {
   "cell_type": "code",
   "execution_count": null,
   "metadata": {},
   "outputs": [],
   "source": [
    "counts_SM = Counter(SM_wordlist)\n",
    "#print(counts_SM)\n",
    "counts_SM1 = pd.DataFrame.from_dict(counts_SM, orient='index').reset_index()\n",
    "counts_SM1 = counts_SM1.rename(columns={'index':'word', 0:'freq'})\n",
    "counts_SM1['user'] = 'Scott Morrison'\n",
    "counts_SM1['SM_total'] = counts_SM1['freq'].sum()\n",
    "print('Total SM words:',counts_SM1['freq'].sum())\n",
    "sorted_SM = counts_SM1.sort_values(by=['freq'], ascending = [False])[:20]\n",
    "sorted_SM"
   ]
  },
  {
   "cell_type": "code",
   "execution_count": null,
   "metadata": {},
   "outputs": [],
   "source": [
    "top20_outer = pd.merge(sorted_JH, sorted_SM, on='word', how='outer')\n",
    "top20_outer"
   ]
  },
  {
   "cell_type": "code",
   "execution_count": null,
   "metadata": {},
   "outputs": [],
   "source": [
    "momoomo"
   ]
  },
  {
   "cell_type": "code",
   "execution_count": null,
   "metadata": {},
   "outputs": [],
   "source": [
    "#mona\n",
    "media_prob['percentage'] = [i / j * 100 for i,j in zip(media_prob['count'], media_prob['total'])]"
   ]
  },
  {
   "cell_type": "code",
   "execution_count": null,
   "metadata": {},
   "outputs": [],
   "source": [
    "top20_outer['freq_x'] = top20_outer['freq_x'].fillna(0)\n",
    "top20_outer['freq_y'] = top20_outer['freq_y'].fillna(0)\n",
    "top20_outer.fillna(method='ffill', inplace=True)\n",
    "top20_outer"
   ]
  },
  {
   "cell_type": "code",
   "execution_count": null,
   "metadata": {},
   "outputs": [],
   "source": [
    "top20_outer['ratio_JH'] = top20_outer['freq_x']+1/top20_outer['SM_total_x']+1\n",
    "top20_outer['ratio_SM'] = top20_outer['freq_y']+1/top20_outer['SM_total_y']+1\n",
    "top20_outer['odds_ratio'] = top20_outer['ratio_JH']/top20_outer['ratio_SM']\n",
    "top20_outer['log'] = np.log2(top20_outer['odds_ratio'])\n",
    "\n",
    "top20_outer"
   ]
  },
  {
   "cell_type": "code",
   "execution_count": null,
   "metadata": {},
   "outputs": [],
   "source": [
    "cols = ['word', 'log']\n",
    "results_df = top20_outer[cols]\n",
    "\n",
    "new_index = results_df.log.sort_values(ascending = False).index\n",
    "sorted_results = results_df.reindex(new_index)\n",
    "filtered_results = sorted_results[np.abs(sorted_results.log) > 0]\n",
    "\n",
    "plt.figure(figsize =(8,10))\n",
    "plt.barh(filtered_results.word, filtered_results.log)\n",
    "plt.xlabel('Julian Hill MP/Scott Morrison log ratio', fontsize = 14)\n",
    "plt.ylabel('Word', fontsize = 14)\n",
    "plt.show()"
   ]
  },
  {
   "cell_type": "code",
   "execution_count": null,
   "metadata": {},
   "outputs": [],
   "source": []
  },
  {
   "cell_type": "code",
   "execution_count": null,
   "metadata": {},
   "outputs": [],
   "source": [
    "#top20 = pd.concat([sorted_JH, sorted_SM], axis=0, ignore_index=True)\n",
    "#top20"
   ]
  },
  {
   "cell_type": "code",
   "execution_count": null,
   "metadata": {},
   "outputs": [],
   "source": [
    "#top20['word'].value_counts()\n",
    "top20.groupby('word')['user'].count()"
   ]
  },
  {
   "cell_type": "markdown",
   "metadata": {},
   "source": [
    "#https://towardsdatascience.com/generate-meaningful-word-clouds-in-python-5b85f5668eeb"
   ]
  },
  {
   "cell_type": "code",
   "execution_count": null,
   "metadata": {},
   "outputs": [],
   "source": [
    "#mona"
   ]
  },
  {
   "cell_type": "code",
   "execution_count": null,
   "metadata": {},
   "outputs": [],
   "source": []
  },
  {
   "cell_type": "code",
   "execution_count": null,
   "metadata": {},
   "outputs": [],
   "source": [
    "cols = ['user', 'cleaned_tweets']\n",
    "df3 = df2[cols]\n",
    "df3 = df3.rename(columns={'user': 'speaker', 'cleaned_tweets': 'tweets'})\n",
    "df3"
   ]
  },
  {
   "cell_type": "code",
   "execution_count": null,
   "metadata": {},
   "outputs": [],
   "source": [
    "# create a list of candidates\n",
    "speakers = df3.speaker.unique()\n",
    "#create a list of responses for each candidate using a list comprehension\n",
    "corpus = [' '.join(df3[(df3.speaker==candidate)].tweets.tolist()) for candidate in speakers]\n",
    "\n",
    "# import CountVectorizer\n",
    "from sklearn.feature_extraction.text import CountVectorizer\n",
    "\n",
    "#instantiate a CountVectorizer object\n",
    "# utilize the new STOP_WORDS list\n",
    "cv=CountVectorizer(stop_words='english', ngram_range=(1, 3))\n",
    "\n",
    "# fit transform our text and create a dataframe with the result\n",
    "X = cv.fit_transform(corpus)\n",
    "X = X.toarray()\n",
    "\n",
    "bow=pd.DataFrame(X, columns = cv.get_feature_names())\n",
    "bow.index=speakers"
   ]
  },
  {
   "cell_type": "code",
   "execution_count": null,
   "metadata": {},
   "outputs": [],
   "source": [
    "cv"
   ]
  },
  {
   "cell_type": "code",
   "execution_count": null,
   "metadata": {},
   "outputs": [],
   "source": [
    "corpus"
   ]
  },
  {
   "cell_type": "code",
   "execution_count": null,
   "metadata": {},
   "outputs": [],
   "source": [
    "X "
   ]
  },
  {
   "cell_type": "code",
   "execution_count": null,
   "metadata": {},
   "outputs": [],
   "source": [
    "bow"
   ]
  },
  {
   "cell_type": "code",
   "execution_count": null,
   "metadata": {},
   "outputs": [],
   "source": [
    "from tqdm import tqdm #used for progress bar\n",
    "import math\n",
    "\n",
    "#build an empty dataframe\n",
    "t_bow_df=pd.DataFrame()\n",
    "\n",
    "# By candidate, divide the number of times a word is said, \n",
    "# by the total number of times they've said all the words that they have said (frequency)\n",
    "bow_transformed = bow.apply(lambda x: (x+1)/ (bow.loc[x.name].sum()+1), axis=1) \n",
    "\n",
    "for candidate in tqdm(speakers):\n",
    "    feat_s = bow[bow.index != candidate].sum()+1 #sum all the times each word was said excluding the candidate\n",
    "    feat_s_all = np.sum(bow[bow.index != candidate].sum()) # all the total words that were said, excluding the candidate\n",
    "    tot = feat_s / feat_s_all #find the frequency of words said among other candidates\n",
    "    row = bow_transformed.loc[candidate] / tot #divide the candidate's array of frequency of words by all other candidates' frequency\n",
    "    row = pd.DataFrame(row).T #create a df, and transform\n",
    "    results = row.apply(lambda x: math.log(x,2)) #take the log of each frequency\n",
    "    \n",
    "    t_bow_df = pd.concat([t_bow_df, pd.DataFrame([results], index=[candidate])]) #append to df"
   ]
  },
  {
   "cell_type": "code",
   "execution_count": null,
   "metadata": {},
   "outputs": [],
   "source": [
    "t_bow_df"
   ]
  },
  {
   "cell_type": "code",
   "execution_count": null,
   "metadata": {},
   "outputs": [],
   "source": []
  },
  {
   "cell_type": "code",
   "execution_count": null,
   "metadata": {},
   "outputs": [],
   "source": []
  },
  {
   "cell_type": "code",
   "execution_count": null,
   "metadata": {},
   "outputs": [],
   "source": []
  },
  {
   "cell_type": "code",
   "execution_count": null,
   "metadata": {},
   "outputs": [],
   "source": []
  },
  {
   "cell_type": "markdown",
   "metadata": {},
   "source": [
    "__log odds ratio__\n",
    "Calculate the log odds ratio (check here for an example) for each word used in the set of tweets, and list the 20 words most strongly associated with each of the two users."
   ]
  },
  {
   "cell_type": "markdown",
   "metadata": {},
   "source": [
    "android_iphone_ratios <- tweet_words %>% \n",
    "\n",
    "  count(word, source) %>%\n",
    "  filter(sum(n) >= 5) %>%\n",
    "  spread(source, n, fill = 0) %>%\n",
    "  ungroup() %>%\n",
    "  mutate_each(funs((. + 1) / sum(. + 1)), -word) %>%\n",
    "  mutate(logratio = log2(Android / iPhone)) %>%\n",
    "  arrange(desc(logratio))"
   ]
  },
  {
   "cell_type": "code",
   "execution_count": null,
   "metadata": {},
   "outputs": [],
   "source": []
  },
  {
   "cell_type": "code",
   "execution_count": null,
   "metadata": {},
   "outputs": [],
   "source": []
  },
  {
   "cell_type": "code",
   "execution_count": null,
   "metadata": {},
   "outputs": [],
   "source": [
    "texts = []\n",
    "for each_tweet in word_l:\n",
    "    text = each_tweet\n",
    "    print(text)\n",
    "    lowercase = text.lower()\n",
    "    print(lowercase)\n",
    "    texts.append(lowercase)\n",
    "tweet_words = []\n",
    "for text in texts:\n",
    "    words = re.findall('[^\\W\\d_]+', text)\n",
    "    words = [w for w in words if len(w) > 1]\n",
    "    tweet_words.append(words)\n",
    "return tweet_words"
   ]
  },
  {
   "cell_type": "code",
   "execution_count": null,
   "metadata": {},
   "outputs": [],
   "source": []
  },
  {
   "cell_type": "code",
   "execution_count": null,
   "metadata": {},
   "outputs": [],
   "source": []
  },
  {
   "cell_type": "code",
   "execution_count": null,
   "metadata": {},
   "outputs": [],
   "source": []
  },
  {
   "cell_type": "code",
   "execution_count": null,
   "metadata": {},
   "outputs": [],
   "source": [
    "df.dtypes"
   ]
  },
  {
   "cell_type": "markdown",
   "metadata": {},
   "source": [
    "**Task 6** Use the vaderSentiment module to calculate the sentiment of each tweet, and then for each of the two users, calculate the average 'compound' sentiment for all their tweets."
   ]
  },
  {
   "cell_type": "code",
   "execution_count": null,
   "metadata": {},
   "outputs": [],
   "source": [
    "from vaderSentiment.vaderSentiment import SentimentIntensityAnalyzer\n",
    "#note: depending on how you installed (e.g., using source code download versus pip install), you may need to import like this:\n",
    "#from vaderSentiment import SentimentIntensityAnalyzer\n",
    "\n",
    "# --- examples -------\n",
    "sentences = [\"VADER is smart, handsome, and funny.\",  # positive sentence example\n",
    "             \"VADER is smart, handsome, and funny!\",  # punctuation emphasis handled correctly (sentiment intensity adjusted)\n",
    "             \"VADER is very smart, handsome, and funny.\", # booster words handled correctly (sentiment intensity adjusted)\n",
    "             \"VADER is VERY SMART, handsome, and FUNNY.\",  # emphasis for ALLCAPS handled\n",
    "             \"VADER is VERY SMART, handsome, and FUNNY!!!\", # combination of signals - VADER appropriately adjusts intensity\n",
    "             \"VADER is VERY SMART, uber handsome, and FRIGGIN FUNNY!!!\", # booster words & punctuation make this close to ceiling for score\n",
    "             \"VADER is not smart, handsome, nor funny.\",  # negation sentence example\n",
    "             \"The book was good.\",  # positive sentence\n",
    "             \"At least it isn't a horrible book.\",  # negated negative sentence with contraction\n",
    "             \"The book was only kind of good.\", # qualified positive sentence is handled correctly (intensity adjusted)\n",
    "             \"The plot was good, but the characters are uncompelling and the dialog is not great.\", # mixed negation sentence\n",
    "             \"Today SUX!\",  # negative slang with capitalization emphasis\n",
    "             \"Today only kinda sux! But I'll get by, lol\", # mixed sentiment example with slang and constrastive conjunction \"but\"\n",
    "             \"Make sure you :) or :D today!\",  # emoticons handled\n",
    "             \"Catch utf-8 emoji such as such as 💘 and 💋 and 😁\",  # emojis handled\n",
    "             \"Not bad at all\"  # Capitalized negation\n",
    "            ]\n",
    "\n",
    "analyzer = SentimentIntensityAnalyzer()\n",
    "for sentence in sentences:\n",
    "    vs = analyzer.polarity_scores(sentence)\n",
    "    print(\"{:-<65} {}\".format(sentence, str(vs)))"
   ]
  },
  {
   "cell_type": "code",
   "execution_count": null,
   "metadata": {},
   "outputs": [],
   "source": [
    "#vadertext"
   ]
  },
  {
   "cell_type": "code",
   "execution_count": null,
   "metadata": {},
   "outputs": [],
   "source": [
    "cols = ['user','text_without_mentions']\n",
    "df4 = df2[cols]\n",
    "df4 = df4.rename(columns={'text_without_mentions': 'vadertext'})\n",
    "df4"
   ]
  },
  {
   "cell_type": "code",
   "execution_count": null,
   "metadata": {},
   "outputs": [],
   "source": [
    "valence_score = []\n",
    "compound = []\n",
    "analyzer = SentimentIntensityAnalyzer()\n",
    "for sentence in df4['vadertext']:\n",
    "    vs = analyzer.polarity_scores(sentence)\n",
    "    #print(\"{:-<65} {}\".format(sentence, str(vs))) \n",
    "    #print(\"{:-<65} {}\".format(sentence, str(vs['compound']))) \n",
    "    valence_score.append(vs)\n",
    "    compound.append(vs['compound'])\n",
    "df4['valence_score'] = valence_score\n",
    "df4['compound'] = compound"
   ]
  },
  {
   "cell_type": "code",
   "execution_count": null,
   "metadata": {},
   "outputs": [],
   "source": [
    "df4"
   ]
  },
  {
   "cell_type": "code",
   "execution_count": null,
   "metadata": {},
   "outputs": [],
   "source": [
    "#the average 'compound' sentiment for all their tweets\n",
    "df4.groupby('user')['compound'].mean()"
   ]
  },
  {
   "cell_type": "code",
   "execution_count": null,
   "metadata": {},
   "outputs": [],
   "source": []
  },
  {
   "cell_type": "code",
   "execution_count": null,
   "metadata": {},
   "outputs": [],
   "source": []
  }
 ],
 "metadata": {
  "colab": {
   "collapsed_sections": [],
   "name": "tweepy-user-pandas.ipynb",
   "provenance": [],
   "version": "0.3.2"
  },
  "kernelspec": {
   "display_name": "Python 3",
   "language": "python",
   "name": "python3"
  },
  "language_info": {
   "codemirror_mode": {
    "name": "ipython",
    "version": 3
   },
   "file_extension": ".py",
   "mimetype": "text/x-python",
   "name": "python",
   "nbconvert_exporter": "python",
   "pygments_lexer": "ipython3",
   "version": "3.8.5"
  }
 },
 "nbformat": 4,
 "nbformat_minor": 1
}
